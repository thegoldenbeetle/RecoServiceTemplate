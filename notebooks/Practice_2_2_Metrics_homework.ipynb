{
  "cells": [
    {
      "cell_type": "markdown",
      "id": "a00c6db1",
      "metadata": {
        "id": "a00c6db1"
      },
      "source": [
        "# Метрики\n",
        "\n",
        "## Imports"
      ]
    },
    {
      "cell_type": "code",
      "source": [
        "!pip install rectools"
      ],
      "metadata": {
        "id": "bXyjVlfGP_pF"
      },
      "id": "bXyjVlfGP_pF",
      "execution_count": null,
      "outputs": []
    },
    {
      "cell_type": "code",
      "execution_count": 87,
      "id": "14dec809",
      "metadata": {
        "ExecuteTime": {
          "end_time": "2022-11-16T13:16:59.822474Z",
          "start_time": "2022-11-16T13:16:58.134477Z"
        },
        "id": "14dec809"
      },
      "outputs": [],
      "source": [
        "import pandas as pd\n",
        "import numpy as np\n",
        "import numba as nb\n",
        "import requests\n",
        "from rectools import Columns\n",
        "\n",
        "from timeit import timeit\n",
        "from tqdm.auto import tqdm"
      ]
    },
    {
      "cell_type": "code",
      "execution_count": 3,
      "id": "e3551b5e",
      "metadata": {
        "ExecuteTime": {
          "end_time": "2022-11-16T13:16:59.838475Z",
          "start_time": "2022-11-16T13:16:59.825476Z"
        },
        "id": "e3551b5e"
      },
      "outputs": [],
      "source": [
        "np.random.seed(23)"
      ]
    },
    {
      "cell_type": "markdown",
      "id": "d636a7d5",
      "metadata": {
        "id": "d636a7d5"
      },
      "source": [
        "## Read data"
      ]
    },
    {
      "cell_type": "code",
      "source": [
        "url = 'https://github.com/irsafilo/KION_DATASET/raw/f69775be31fa5779907cf0a92ddedb70037fb5ae/data_original.zip'\n",
        "req = requests.get(url, stream=True)\n",
        "\n",
        "with open('kion.zip', 'wb') as fd:\n",
        "    total_size_in_bytes = int(req.headers.get('Content-Length', 0))\n",
        "    progress_bar = tqdm(desc='kion dataset download', total=total_size_in_bytes, unit='iB', unit_scale=True)\n",
        "    for chunk in req.iter_content(chunk_size=2 ** 20):\n",
        "        progress_bar.update(len(chunk))\n",
        "        fd.write(chunk)"
      ],
      "metadata": {
        "colab": {
          "base_uri": "https://localhost:8080/",
          "height": 49,
          "referenced_widgets": [
            "d8e62eeb799b483591e578d9db210b45",
            "915530a5314149c2a7d0565caf51bff5",
            "b5ae54f41a9645a084eb1ad1de0bd45f",
            "6a8d522939bf45dc817da83c803a90ea",
            "ffdec017643349c0af49a026bcb943c2",
            "4f71e18613a64d26b0c18e2e1fcaedc6",
            "81d85912c001469e819f09aef52dd36b",
            "51cf0f2ad01447169c9e279e12a8b015",
            "cd53f4e4461846d486c2592a2a639592",
            "1eec1e9098784de1a9b930f28f2cfa71",
            "48cf6ba036b14effabf7312d497163ce"
          ]
        },
        "id": "GMMSkj5WObNi",
        "outputId": "17b43b8e-02d6-42a9-cfdc-96abd9685b35"
      },
      "id": "GMMSkj5WObNi",
      "execution_count": 4,
      "outputs": [
        {
          "output_type": "display_data",
          "data": {
            "text/plain": [
              "kion dataset download:   0%|          | 0.00/78.8M [00:00<?, ?iB/s]"
            ],
            "application/vnd.jupyter.widget-view+json": {
              "version_major": 2,
              "version_minor": 0,
              "model_id": "d8e62eeb799b483591e578d9db210b45"
            }
          },
          "metadata": {}
        }
      ]
    },
    {
      "cell_type": "code",
      "source": [
        "!unzip kion.zip"
      ],
      "metadata": {
        "id": "YJucFeAKETuQ"
      },
      "id": "YJucFeAKETuQ",
      "execution_count": null,
      "outputs": []
    },
    {
      "cell_type": "code",
      "execution_count": 6,
      "id": "8b021111",
      "metadata": {
        "ExecuteTime": {
          "end_time": "2022-11-16T13:17:02.540473Z",
          "start_time": "2022-11-16T13:16:59.841479Z"
        },
        "id": "8b021111"
      },
      "outputs": [],
      "source": [
        "interactions = pd.read_csv('data_original/interactions.csv')\n",
        "\n",
        "interactions.rename(\n",
        "    columns={\n",
        "        'track_id': Columns.Item,\n",
        "        'last_watch_dt': Columns.Datetime,\n",
        "        'total_dur': Columns.Weight\n",
        "    }, \n",
        "    inplace=True) \n",
        "\n",
        "interactions[Columns.Datetime] = pd.to_datetime(interactions[Columns.Datetime])"
      ]
    },
    {
      "cell_type": "markdown",
      "source": [
        "### MRR\n",
        "Исходные данные - результат `generate_subsample` \n",
        "\n",
        "**Задача** - по аналогии с precision написать три версии функции подсчета Mean Reciprocal Rank (naive, numba, pandas) и протестировать на разных размерах выборки\n",
        "- Протестируйте для всех комбинаций (users_count, top_k):\n",
        "  - users_count - [100, 1000, 10000, 100000]\n",
        "  - top_k - [10, 50, 100]\n",
        "- Результатом тестирования должен быть график, где будут отражены следующие показатели:\n",
        "  - Алгоритм - naive, numba, pandas\n",
        "  - Скорость работы (время)\n",
        "  - users_count\n",
        "  - top_k"
      ],
      "metadata": {
        "id": "wVmNcjDLtUOH"
      },
      "id": "wVmNcjDLtUOH"
    },
    {
      "cell_type": "code",
      "execution_count": 7,
      "id": "003c90fd",
      "metadata": {
        "ExecuteTime": {
          "end_time": "2022-11-16T13:17:19.763472Z",
          "start_time": "2022-11-16T13:17:19.751472Z"
        },
        "id": "003c90fd"
      },
      "outputs": [],
      "source": [
        "def generate_subsample(users_count, top_k):\n",
        "    users = np.random.choice(interactions[Columns.User].unique(), users_count, replace=False)\n",
        "    df = interactions[interactions[Columns.User].isin(users)].reset_index(drop=True)\n",
        "    del df[Columns.Datetime], df[Columns.Weight], df['watched_pct']\n",
        "    \n",
        "    recs = np.random.choice(df[Columns.Item], size=(users_count, top_k))\n",
        "    return df, users, recs"
      ]
    },
    {
      "cell_type": "code",
      "execution_count": 8,
      "id": "82302497",
      "metadata": {
        "ExecuteTime": {
          "end_time": "2022-11-16T13:17:19.981472Z",
          "start_time": "2022-11-16T13:17:19.766472Z"
        },
        "id": "82302497"
      },
      "outputs": [],
      "source": [
        "top_k = 10\n",
        "df, users, recs = generate_subsample(10000, top_k)\n",
        "target = df.values"
      ]
    },
    {
      "cell_type": "code",
      "source": [
        "def mrr_naive(target, users, recs):\n",
        "    summ = 0\n",
        "    for i, user in enumerate(users):\n",
        "        user_target = target[target[:, 0] == user][:, 1]\n",
        "        for j, rec in enumerate(recs[i], 1):\n",
        "            if rec in user_target:\n",
        "                summ += 1 / j\n",
        "                break\n",
        "    return summ / len(users)"
      ],
      "metadata": {
        "id": "kDSO5MyPHqao"
      },
      "id": "kDSO5MyPHqao",
      "execution_count": 40,
      "outputs": []
    },
    {
      "cell_type": "code",
      "source": [
        "@nb.njit(cache=True, parallel=True)\n",
        "def mrr_numba(target, users, recs):\n",
        "    summ = 0\n",
        "    for i in nb.prange(len(users)):\n",
        "        user_target = target[target[:, 0] == users[i]][:, 1]\n",
        "        for j in range(len(recs[i])):\n",
        "            if recs[i][j] in user_target:\n",
        "                summ += 1 / (j + 1)\n",
        "                break\n",
        "    return summ / len(users)"
      ],
      "metadata": {
        "id": "mIrGSAEKLkMX"
      },
      "id": "mIrGSAEKLkMX",
      "execution_count": 41,
      "outputs": []
    },
    {
      "cell_type": "code",
      "source": [
        "def mrr_pandas(df, users, recs, k):\n",
        "    df_recs = pd.DataFrame({\n",
        "      Columns.User: np.repeat(users, top_k),\n",
        "      Columns.Item: recs.ravel()\n",
        "    })\n",
        "    df_recs[Columns.Rank] = df_recs.groupby(Columns.User, sort=False).cumcount() + 1\n",
        "    df_recs = df.merge(df_recs, how='left', left_on=Columns.UserItem, right_on=Columns.UserItem)\n",
        "    assert not df_recs['rank'].isnull().all(), \"No corresponding ItemIDs\"\n",
        "    return (1.0 / df_recs.groupby(Columns.User, sort=False)[Columns.Rank].min()).sum() / len(users)"
      ],
      "metadata": {
        "id": "sadRYFT4NzjP"
      },
      "id": "sadRYFT4NzjP",
      "execution_count": 79,
      "outputs": []
    },
    {
      "cell_type": "code",
      "source": [
        "df_recs = pd.DataFrame({\n",
        "  Columns.User: np.repeat(users, top_k),\n",
        "  Columns.Item: recs.ravel()\n",
        "})\n",
        "df_recs[Columns.Rank] = df_recs.groupby(Columns.User, sort=False).cumcount() + 1"
      ],
      "metadata": {
        "id": "SOR8e-WVJmZv"
      },
      "id": "SOR8e-WVJmZv",
      "execution_count": 66,
      "outputs": []
    },
    {
      "cell_type": "code",
      "source": [
        "%timeit mrr_naive(target, users, recs)"
      ],
      "metadata": {
        "colab": {
          "base_uri": "https://localhost:8080/"
        },
        "id": "DX7DgR1ZImsk",
        "outputId": "bfdaa09f-3082-4d14-a95f-222f461a68f7"
      },
      "id": "DX7DgR1ZImsk",
      "execution_count": 43,
      "outputs": [
        {
          "output_type": "stream",
          "name": "stdout",
          "text": [
            "2.07 s ± 457 ms per loop (mean ± std. dev. of 7 runs, 1 loop each)\n"
          ]
        }
      ]
    },
    {
      "cell_type": "code",
      "source": [
        "%timeit mrr_numba(target, users, recs)"
      ],
      "metadata": {
        "colab": {
          "base_uri": "https://localhost:8080/"
        },
        "id": "HPBzOIXjLy6R",
        "outputId": "c5abb28c-a885-48e9-e63c-a886db82c304"
      },
      "id": "HPBzOIXjLy6R",
      "execution_count": 44,
      "outputs": [
        {
          "output_type": "stream",
          "name": "stdout",
          "text": [
            "1.3 s ± 188 ms per loop (mean ± std. dev. of 7 runs, 1 loop each)\n"
          ]
        }
      ]
    },
    {
      "cell_type": "code",
      "source": [
        "%timeit mrr_pandas(df, users, recs, top_k) "
      ],
      "metadata": {
        "colab": {
          "base_uri": "https://localhost:8080/"
        },
        "id": "7-jWdrFaOIUd",
        "outputId": "27434638-2c1d-4fca-c4ed-e0457baf91e8"
      },
      "id": "7-jWdrFaOIUd",
      "execution_count": null,
      "outputs": [
        {
          "output_type": "stream",
          "name": "stdout",
          "text": [
            "1.01 s ± 31.2 ms per loop (mean ± std. dev. of 7 runs, 1 loop each)\n"
          ]
        }
      ]
    },
    {
      "cell_type": "code",
      "source": [
        "print(mrr_naive(target, users, recs), mrr_numba(target, users, recs), mrr_pandas(df, users, recs, top_k))"
      ],
      "metadata": {
        "colab": {
          "base_uri": "https://localhost:8080/"
        },
        "id": "saYUChkllF5M",
        "outputId": "93affe0d-df7d-4c08-f6f6-432cd912bde2"
      },
      "id": "saYUChkllF5M",
      "execution_count": 83,
      "outputs": [
        {
          "output_type": "stream",
          "name": "stdout",
          "text": [
            "0.07836801587301619 0.07836801587301577 0.07836801587301587\n"
          ]
        }
      ]
    },
    {
      "cell_type": "code",
      "source": [
        "results = []\n",
        "runs = 10\n",
        "for top_k in [10, 50, 100]:\n",
        "  for user_count in [100, 1000, 10000, 100000]:\n",
        "    df, users, recs = generate_subsample(user_count, top_k)\n",
        "    target = df.values\n",
        "    naive = %timeit -r 5 -o mrr_naive(target, users, recs) \n",
        "    numba = %timeit -r 5 -o mrr_numba(target, users, recs) \n",
        "    pandas = %timeit -r 5 -o mrr_pandas(df, users, recs, top_k) \n",
        "    results.append([naive.average, numba.average, pandas.average])"
      ],
      "metadata": {
        "colab": {
          "base_uri": "https://localhost:8080/"
        },
        "id": "FwwwiueMeTcw",
        "outputId": "500004ac-8cf8-45ef-d96f-3bb7e2eb248a"
      },
      "id": "FwwwiueMeTcw",
      "execution_count": 90,
      "outputs": [
        {
          "output_type": "stream",
          "name": "stdout",
          "text": [
            "3.67 ms ± 82.8 µs per loop (mean ± std. dev. of 5 runs, 100 loops each)\n",
            "140 µs ± 968 ns per loop (mean ± std. dev. of 5 runs, 10000 loops each)\n",
            "5.71 ms ± 107 µs per loop (mean ± std. dev. of 5 runs, 100 loops each)\n",
            "51.4 ms ± 476 µs per loop (mean ± std. dev. of 5 runs, 10 loops each)\n",
            "12.5 ms ± 103 µs per loop (mean ± std. dev. of 5 runs, 100 loops each)\n",
            "8.33 ms ± 96.5 µs per loop (mean ± std. dev. of 5 runs, 100 loops each)\n",
            "1.78 s ± 26.4 ms per loop (mean ± std. dev. of 5 runs, 1 loop each)\n",
            "1.24 s ± 9.21 ms per loop (mean ± std. dev. of 5 runs, 1 loop each)\n",
            "52.3 ms ± 663 µs per loop (mean ± std. dev. of 5 runs, 10 loops each)\n",
            "3min 6s ± 5.48 s per loop (mean ± std. dev. of 5 runs, 1 loop each)\n",
            "2min 24s ± 1.09 s per loop (mean ± std. dev. of 5 runs, 1 loop each)\n",
            "474 ms ± 9.3 ms per loop (mean ± std. dev. of 5 runs, 1 loop each)\n",
            "13.6 ms ± 394 µs per loop (mean ± std. dev. of 5 runs, 100 loops each)\n",
            "178 µs ± 3.84 µs per loop (mean ± std. dev. of 5 runs, 10000 loops each)\n",
            "6.89 ms ± 175 µs per loop (mean ± std. dev. of 5 runs, 100 loops each)\n",
            "134 ms ± 760 µs per loop (mean ± std. dev. of 5 runs, 10 loops each)\n",
            "13 ms ± 128 µs per loop (mean ± std. dev. of 5 runs, 100 loops each)\n",
            "19.3 ms ± 108 µs per loop (mean ± std. dev. of 5 runs, 10 loops each)\n",
            "2.62 s ± 18.2 ms per loop (mean ± std. dev. of 5 runs, 1 loop each)\n",
            "1.25 s ± 14.2 ms per loop (mean ± std. dev. of 5 runs, 1 loop each)\n",
            "143 ms ± 1.43 ms per loop (mean ± std. dev. of 5 runs, 10 loops each)\n",
            "3min 10s ± 3.2 s per loop (mean ± std. dev. of 5 runs, 1 loop each)\n",
            "2min 13s ± 4.99 s per loop (mean ± std. dev. of 5 runs, 1 loop each)\n",
            "1.96 s ± 158 ms per loop (mean ± std. dev. of 5 runs, 1 loop each)\n",
            "13.5 ms ± 47.7 µs per loop (mean ± std. dev. of 5 runs, 100 loops each)\n",
            "188 µs ± 811 ns per loop (mean ± std. dev. of 5 runs, 10000 loops each)\n",
            "8.53 ms ± 1.25 ms per loop (mean ± std. dev. of 5 runs, 100 loops each)\n",
            "191 ms ± 759 µs per loop (mean ± std. dev. of 5 runs, 10 loops each)\n",
            "12.3 ms ± 87.1 µs per loop (mean ± std. dev. of 5 runs, 100 loops each)\n",
            "52.9 ms ± 520 µs per loop (mean ± std. dev. of 5 runs, 10 loops each)\n",
            "3.19 s ± 9.89 ms per loop (mean ± std. dev. of 5 runs, 1 loop each)\n",
            "1.22 s ± 6.13 ms per loop (mean ± std. dev. of 5 runs, 1 loop each)\n",
            "267 ms ± 5.01 ms per loop (mean ± std. dev. of 5 runs, 1 loop each)\n",
            "3min 2s ± 4.13 s per loop (mean ± std. dev. of 5 runs, 1 loop each)\n",
            "2min 13s ± 1.62 s per loop (mean ± std. dev. of 5 runs, 1 loop each)\n",
            "3.76 s ± 21.2 ms per loop (mean ± std. dev. of 5 runs, 1 loop each)\n"
          ]
        }
      ]
    },
    {
      "cell_type": "code",
      "source": [
        "import matplotlib.pyplot as plt\n",
        "import numpy as np\n",
        "  \n",
        "# create data\n",
        "top_array = [10, 50, 100]\n",
        "user_count_array = [100, 1000, 10000, 100000]\n",
        "fig, ax = plt.subplots(1,4, figsize=(24,6))\n",
        "for i in range(4):\n",
        "  x = np.arange(3)\n",
        "  y1 = results[i,0]\n",
        "  y2 = results[i+4,1]\n",
        "  y3 = results[i+8,2]\n",
        "  width = 0.2\n",
        "    \n",
        "  # plot data in grouped manner of bar type\n",
        "  ax[i].bar(x-0.2, y1, width, color='cyan')\n",
        "  ax[i].bar(x, y2, width, color='orange')\n",
        "  ax[i].bar(x+0.2, y3, width, color='green')\n",
        "  ax[i].set_xlabel(\"Setups\")\n",
        "  ax[i].set_ylabel(\"Time, s\")\n",
        "  ax[i].legend([\"Naive\", \"Numba\", \"Pandas\"])\n",
        "  ax[i].set_title(f\"{user_count_array[i]} users\")\n",
        "plt.setp(ax, xticks=x, xticklabels=['Top10', 'Top50', 'Top100'])\n",
        "plt.show()"
      ],
      "metadata": {
        "colab": {
          "base_uri": "https://localhost:8080/",
          "height": 404
        },
        "id": "CfiWcZPcc52S",
        "outputId": "f1fe5590-658b-4a23-92c1-e4cbaca5c356"
      },
      "id": "CfiWcZPcc52S",
      "execution_count": 94,
      "outputs": [
        {
          "output_type": "display_data",
          "data": {
            "text/plain": [
              "<Figure size 1728x432 with 4 Axes>"
            ],
            "image/png": "[encoded data removed]"
          },
          "metadata": {
            "needs_background": "light"
          }
        }
      ]
    },
    {
      "cell_type": "markdown",
      "id": "86146c27",
      "metadata": {
        "id": "86146c27"
      },
      "source": [
        "### PFound\n",
        "Исходные данные - Yandex Cup 2022 Analytics\n",
        "- Ссылка - https://yandex.ru/cup/analytics/analysis/ , пример A. Рассчитать pFound\n",
        "- Данные - https://yadi.sk/d/guqki4UI4hFlXQ\n",
        "- Формула\n",
        "$$pFound@K = \\sum_{i=1}^{k} pLook[i]\\ pRel[i]$$\n",
        "\n",
        "$$pLook[1] = 1$$\n",
        "\n",
        "$$pLook[i] = pLook[i-1]\\ (1 - pRel[i-1])\\ (1 - pBreak)$$\n",
        "\n",
        "$$pBreak = 0.15$$\n",
        "\n",
        "**Задача** - написать функцию, которая принимает на вход dataframe (после join), а на выходе дает средний pFound по всем query.\n",
        "- Запрещается использовать циклы for для расчет метрики (как полностью, так и ее частей).\n",
        "- Усложнение, если задача показалась легкой - попробуйте обойтись без groupby (не уверен, что это возможно, но вдруг вы справитесь)\n"
      ]
    },
    {
      "cell_type": "code",
      "source": [
        "import pandas as pd\n",
        "import numpy as np\n",
        "\n",
        "# считываем данные\n",
        "qid_query = pd.read_csv(\"/content/drive/MyDrive/recsys_lecture2/yacup/qid_query.tsv\", sep=\"\\t\", names=[\"qid\", \"query\"])\n",
        "qid_url_rating = pd.read_csv(\"/content/drive/MyDrive/recsys_lecture2/yacup/qid_url_rating.tsv\", sep=\"\\t\", names=[\"qid\", \"url\", \"rating\"])\n",
        "hostid_url = pd.read_csv(\"/content/drive/MyDrive/recsys_lecture2/yacup/hostid_url.tsv\", sep=\"\\t\", names=[\"hostid\", \"url\"])\n",
        "\n",
        "# делаем join двух таблиц, чтобы было просто брать url с максимальным рейтингом\n",
        "qid_url_rating_hostid = pd.merge(qid_url_rating, hostid_url, on=\"url\")\n",
        "\n",
        "\n",
        "def plook(ind, rels):\n",
        "    if ind == 0:\n",
        "        return 1\n",
        "    return plook(ind-1, rels)*(1-rels[ind-1])*(1-0.15)\n",
        "\n",
        "\n",
        "def pfound_vector(group):\n",
        "    max_by_host = group.groupby(\"hostid\")[\"rating\"].max() # максимальный рейтинг хоста\n",
        "    top10 = max_by_host.sort_values(ascending=False)[:10] # берем топ10 урлов с наивысшим рейтингом\n",
        "    top10_np = top10.to_numpy() \n",
        "    pbreak = np.power(np.repeat(1 - 0.15, 10), np.arange(10))\n",
        "    pRel_ = np.roll(1 - top10_np, 1)\n",
        "    pRel_[0] = 1\n",
        "    pRel_ = pRel_.cumprod() \n",
        "    return np.sum(pRel_ * pbreak * top10_np)\n",
        "\n",
        "def pfound(group):\n",
        "  max_by_host = group.groupby(\"hostid\")[\"rating\"].max() # максимальный рейтинг хоста\n",
        "  top10 = max_by_host.sort_values(ascending=False)[:10] # берем топ10 урлов с наивысшим рейтингом\n",
        "  pfound = 0\n",
        "  for ind, val in enumerate(top10):\n",
        "      pfound += val*plook(ind, top10.values)\n",
        "  return pfound\n",
        "\n",
        "\n",
        "qid_pfound = qid_url_rating_hostid.groupby('qid').apply(pfound) # группируем по qid и вычисляем pfound\n",
        "qid_pfound_vector = qid_url_rating_hostid.groupby('qid').apply(pfound_vector) # группируем по qid и вычисляем pfound векторизованный\n",
        "print(qid_pfound.mean(), qid_pfound_vector.mean())"
      ],
      "metadata": {
        "id": "nMsyJEO9AUcf",
        "colab": {
          "base_uri": "https://localhost:8080/"
        },
        "outputId": "ace1a83b-6f02-4476-9012-d9ab2849bed0"
      },
      "id": "nMsyJEO9AUcf",
      "execution_count": 97,
      "outputs": [
        {
          "output_type": "stream",
          "name": "stdout",
          "text": [
            "0.5822199638393889 0.5822199638393888\n"
          ]
        }
      ]
    }
  ],
  "metadata": {
    "kernelspec": {
      "display_name": "Practice #2 (py38)",
      "language": "python",
      "name": "practice2"
    },
    "language_info": {
      "codemirror_mode": {
        "name": "ipython",
        "version": 3
      },
      "file_extension": ".py",
      "mimetype": "text/x-python",
      "name": "python",
      "nbconvert_exporter": "python",
      "pygments_lexer": "ipython3",
      "version": "3.8.15"
    },
    "toc": {
      "base_numbering": 1,
      "nav_menu": {},
      "number_sections": true,
      "sideBar": true,
      "skip_h1_title": true,
      "title_cell": "Table of Contents",
      "title_sidebar": "Contents",
      "toc_cell": false,
      "toc_position": {
        "height": "calc(100% - 180px)",
        "left": "10px",
        "top": "150px",
        "width": "221px"
      },
      "toc_section_display": true,
      "toc_window_display": true
    },
    "colab": {
      "provenance": []
    },
    "gpuClass": "standard",
    "widgets": {
      "application/vnd.jupyter.widget-state+json": {
        "d8e62eeb799b483591e578d9db210b45": {
          "model_module": "@jupyter-widgets/controls",
          "model_name": "HBoxModel",
          "model_module_version": "1.5.0",
          "state": {
            "_dom_classes": [],
            "_model_module": "@jupyter-widgets/controls",
            "_model_module_version": "1.5.0",
            "_model_name": "HBoxModel",
            "_view_count": null,
            "_view_module": "@jupyter-widgets/controls",
            "_view_module_version": "1.5.0",
            "_view_name": "HBoxView",
            "box_style": "",
            "children": [
              "IPY_MODEL_915530a5314149c2a7d0565caf51bff5",
              "IPY_MODEL_b5ae54f41a9645a084eb1ad1de0bd45f",
              "IPY_MODEL_6a8d522939bf45dc817da83c803a90ea"
            ],
            "layout": "IPY_MODEL_ffdec017643349c0af49a026bcb943c2"
          }
        },
        "915530a5314149c2a7d0565caf51bff5": {
          "model_module": "@jupyter-widgets/controls",
          "model_name": "HTMLModel",
          "model_module_version": "1.5.0",
          "state": {
            "_dom_classes": [],
            "_model_module": "@jupyter-widgets/controls",
            "_model_module_version": "1.5.0",
            "_model_name": "HTMLModel",
            "_view_count": null,
            "_view_module": "@jupyter-widgets/controls",
            "_view_module_version": "1.5.0",
            "_view_name": "HTMLView",
            "description": "",
            "description_tooltip": null,
            "layout": "IPY_MODEL_4f71e18613a64d26b0c18e2e1fcaedc6",
            "placeholder": "​",
            "style": "IPY_MODEL_81d85912c001469e819f09aef52dd36b",
            "value": "kion dataset download: 100%"
          }
        },
        "b5ae54f41a9645a084eb1ad1de0bd45f": {
          "model_module": "@jupyter-widgets/controls",
          "model_name": "FloatProgressModel",
          "model_module_version": "1.5.0",
          "state": {
            "_dom_classes": [],
            "_model_module": "@jupyter-widgets/controls",
            "_model_module_version": "1.5.0",
            "_model_name": "FloatProgressModel",
            "_view_count": null,
            "_view_module": "@jupyter-widgets/controls",
            "_view_module_version": "1.5.0",
            "_view_name": "ProgressView",
            "bar_style": "",
            "description": "",
            "description_tooltip": null,
            "layout": "IPY_MODEL_51cf0f2ad01447169c9e279e12a8b015",
            "max": 78795295,
            "min": 0,
            "orientation": "horizontal",
            "style": "IPY_MODEL_cd53f4e4461846d486c2592a2a639592",
            "value": 78795295
          }
        },
        "6a8d522939bf45dc817da83c803a90ea": {
          "model_module": "@jupyter-widgets/controls",
          "model_name": "HTMLModel",
          "model_module_version": "1.5.0",
          "state": {
            "_dom_classes": [],
            "_model_module": "@jupyter-widgets/controls",
            "_model_module_version": "1.5.0",
            "_model_name": "HTMLModel",
            "_view_count": null,
            "_view_module": "@jupyter-widgets/controls",
            "_view_module_version": "1.5.0",
            "_view_name": "HTMLView",
            "description": "",
            "description_tooltip": null,
            "layout": "IPY_MODEL_1eec1e9098784de1a9b930f28f2cfa71",
            "placeholder": "​",
            "style": "IPY_MODEL_48cf6ba036b14effabf7312d497163ce",
            "value": " 78.8M/78.8M [00:20&lt;00:00, 204MiB/s]"
          }
        },
        "ffdec017643349c0af49a026bcb943c2": {
          "model_module": "@jupyter-widgets/base",
          "model_name": "LayoutModel",
          "model_module_version": "1.2.0",
          "state": {
            "_model_module": "@jupyter-widgets/base",
            "_model_module_version": "1.2.0",
            "_model_name": "LayoutModel",
            "_view_count": null,
            "_view_module": "@jupyter-widgets/base",
            "_view_module_version": "1.2.0",
            "_view_name": "LayoutView",
            "align_content": null,
            "align_items": null,
            "align_self": null,
            "border": null,
            "bottom": null,
            "display": null,
            "flex": null,
            "flex_flow": null,
            "grid_area": null,
            "grid_auto_columns": null,
            "grid_auto_flow": null,
            "grid_auto_rows": null,
            "grid_column": null,
            "grid_gap": null,
            "grid_row": null,
            "grid_template_areas": null,
            "grid_template_columns": null,
            "grid_template_rows": null,
            "height": null,
            "justify_content": null,
            "justify_items": null,
            "left": null,
            "margin": null,
            "max_height": null,
            "max_width": null,
            "min_height": null,
            "min_width": null,
            "object_fit": null,
            "object_position": null,
            "order": null,
            "overflow": null,
            "overflow_x": null,
            "overflow_y": null,
            "padding": null,
            "right": null,
            "top": null,
            "visibility": null,
            "width": null
          }
        },
        "4f71e18613a64d26b0c18e2e1fcaedc6": {
          "model_module": "@jupyter-widgets/base",
          "model_name": "LayoutModel",
          "model_module_version": "1.2.0",
          "state": {
            "_model_module": "@jupyter-widgets/base",
            "_model_module_version": "1.2.0",
            "_model_name": "LayoutModel",
            "_view_count": null,
            "_view_module": "@jupyter-widgets/base",
            "_view_module_version": "1.2.0",
            "_view_name": "LayoutView",
            "align_content": null,
            "align_items": null,
            "align_self": null,
            "border": null,
            "bottom": null,
            "display": null,
            "flex": null,
            "flex_flow": null,
            "grid_area": null,
            "grid_auto_columns": null,
            "grid_auto_flow": null,
            "grid_auto_rows": null,
            "grid_column": null,
            "grid_gap": null,
            "grid_row": null,
            "grid_template_areas": null,
            "grid_template_columns": null,
            "grid_template_rows": null,
            "height": null,
            "justify_content": null,
            "justify_items": null,
            "left": null,
            "margin": null,
            "max_height": null,
            "max_width": null,
            "min_height": null,
            "min_width": null,
            "object_fit": null,
            "object_position": null,
            "order": null,
            "overflow": null,
            "overflow_x": null,
            "overflow_y": null,
            "padding": null,
            "right": null,
            "top": null,
            "visibility": null,
            "width": null
          }
        },
        "81d85912c001469e819f09aef52dd36b": {
          "model_module": "@jupyter-widgets/controls",
          "model_name": "DescriptionStyleModel",
          "model_module_version": "1.5.0",
          "state": {
            "_model_module": "@jupyter-widgets/controls",
            "_model_module_version": "1.5.0",
            "_model_name": "DescriptionStyleModel",
            "_view_count": null,
            "_view_module": "@jupyter-widgets/base",
            "_view_module_version": "1.2.0",
            "_view_name": "StyleView",
            "description_width": ""
          }
        },
        "51cf0f2ad01447169c9e279e12a8b015": {
          "model_module": "@jupyter-widgets/base",
          "model_name": "LayoutModel",
          "model_module_version": "1.2.0",
          "state": {
            "_model_module": "@jupyter-widgets/base",
            "_model_module_version": "1.2.0",
            "_model_name": "LayoutModel",
            "_view_count": null,
            "_view_module": "@jupyter-widgets/base",
            "_view_module_version": "1.2.0",
            "_view_name": "LayoutView",
            "align_content": null,
            "align_items": null,
            "align_self": null,
            "border": null,
            "bottom": null,
            "display": null,
            "flex": null,
            "flex_flow": null,
            "grid_area": null,
            "grid_auto_columns": null,
            "grid_auto_flow": null,
            "grid_auto_rows": null,
            "grid_column": null,
            "grid_gap": null,
            "grid_row": null,
            "grid_template_areas": null,
            "grid_template_columns": null,
            "grid_template_rows": null,
            "height": null,
            "justify_content": null,
            "justify_items": null,
            "left": null,
            "margin": null,
            "max_height": null,
            "max_width": null,
            "min_height": null,
            "min_width": null,
            "object_fit": null,
            "object_position": null,
            "order": null,
            "overflow": null,
            "overflow_x": null,
            "overflow_y": null,
            "padding": null,
            "right": null,
            "top": null,
            "visibility": null,
            "width": null
          }
        },
        "cd53f4e4461846d486c2592a2a639592": {
          "model_module": "@jupyter-widgets/controls",
          "model_name": "ProgressStyleModel",
          "model_module_version": "1.5.0",
          "state": {
            "_model_module": "@jupyter-widgets/controls",
            "_model_module_version": "1.5.0",
            "_model_name": "ProgressStyleModel",
            "_view_count": null,
            "_view_module": "@jupyter-widgets/base",
            "_view_module_version": "1.2.0",
            "_view_name": "StyleView",
            "bar_color": null,
            "description_width": ""
          }
        },
        "1eec1e9098784de1a9b930f28f2cfa71": {
          "model_module": "@jupyter-widgets/base",
          "model_name": "LayoutModel",
          "model_module_version": "1.2.0",
          "state": {
            "_model_module": "@jupyter-widgets/base",
            "_model_module_version": "1.2.0",
            "_model_name": "LayoutModel",
            "_view_count": null,
            "_view_module": "@jupyter-widgets/base",
            "_view_module_version": "1.2.0",
            "_view_name": "LayoutView",
            "align_content": null,
            "align_items": null,
            "align_self": null,
            "border": null,
            "bottom": null,
            "display": null,
            "flex": null,
            "flex_flow": null,
            "grid_area": null,
            "grid_auto_columns": null,
            "grid_auto_flow": null,
            "grid_auto_rows": null,
            "grid_column": null,
            "grid_gap": null,
            "grid_row": null,
            "grid_template_areas": null,
            "grid_template_columns": null,
            "grid_template_rows": null,
            "height": null,
            "justify_content": null,
            "justify_items": null,
            "left": null,
            "margin": null,
            "max_height": null,
            "max_width": null,
            "min_height": null,
            "min_width": null,
            "object_fit": null,
            "object_position": null,
            "order": null,
            "overflow": null,
            "overflow_x": null,
            "overflow_y": null,
            "padding": null,
            "right": null,
            "top": null,
            "visibility": null,
            "width": null
          }
        },
        "48cf6ba036b14effabf7312d497163ce": {
          "model_module": "@jupyter-widgets/controls",
          "model_name": "DescriptionStyleModel",
          "model_module_version": "1.5.0",
          "state": {
            "_model_module": "@jupyter-widgets/controls",
            "_model_module_version": "1.5.0",
            "_model_name": "DescriptionStyleModel",
            "_view_count": null,
            "_view_module": "@jupyter-widgets/base",
            "_view_module_version": "1.2.0",
            "_view_name": "StyleView",
            "description_width": ""
          }
        }
      }
    }
  },
  "nbformat": 4,
  "nbformat_minor": 5
}